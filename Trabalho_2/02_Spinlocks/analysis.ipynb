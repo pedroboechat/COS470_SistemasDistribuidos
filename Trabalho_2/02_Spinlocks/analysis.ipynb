{
 "cells": [
  {
   "cell_type": "markdown",
   "metadata": {},
   "source": [
    "# Análise de desempenho - `spinlocks`"
   ]
  },
  {
   "cell_type": "markdown",
   "metadata": {},
   "source": [
    "## Importação das bibliotecas"
   ]
  },
  {
   "cell_type": "code",
   "execution_count": 1,
   "metadata": {},
   "outputs": [],
   "source": [
    "from os import makedirs\n",
    "from math import log10\n",
    "import subprocess\n",
    "\n",
    "import matplotlib.pyplot as plt\n",
    "import pandas as pd\n",
    "\n",
    "makedirs(\"./data\", exist_ok=True)"
   ]
  },
  {
   "cell_type": "markdown",
   "metadata": {},
   "source": [
    "## Criação de DataFrame para os resultados"
   ]
  },
  {
   "cell_type": "code",
   "execution_count": 3,
   "metadata": {},
   "outputs": [],
   "source": [
    "results_df = pd.DataFrame(columns=[\n",
    "    \"n\",\n",
    "    \"k\",\n",
    "    \"elapsed\",\n",
    "    \"mean_elapsed\"\n",
    "])\n",
    "results_df = pd.read_csv(\"./data/results.csv\", sep=\";\")"
   ]
  },
  {
   "cell_type": "code",
   "execution_count": 5,
   "metadata": {},
   "outputs": [
    {
     "name": "stdout",
     "output_type": "stream",
     "text": [
      "\\begin{tabular}{rrlr}\n",
      "\\toprule\n",
      "           n &   k &                                            elapsed &  mean\\_elapsed \\\\\n",
      "\\midrule\n",
      "  10000000.0 &   1 &                     [3, 3, 3, 3, 3, 5, 3, 3, 2, 3] &           3.1 \\\\\n",
      "  10000000.0 &   2 &                     [2, 2, 2, 2, 2, 2, 2, 2, 2, 2] &           2.0 \\\\\n",
      "  10000000.0 &   4 &                     [2, 2, 3, 2, 2, 2, 1, 1, 2, 3] &           2.0 \\\\\n",
      "  10000000.0 &   8 &                     [2, 1, 2, 2, 2, 2, 2, 2, 3, 1] &           1.9 \\\\\n",
      "  10000000.0 &  16 &                     [3, 2, 1, 1, 1, 1, 1, 2, 1, 1] &           1.4 \\\\\n",
      "  10000000.0 &  32 &                     [2, 2, 3, 3, 1, 1, 1, 2, 1, 1] &           1.7 \\\\\n",
      "  10000000.0 &  64 &                     [4, 2, 2, 1, 1, 2, 1, 1, 1, 1] &           1.6 \\\\\n",
      "  10000000.0 & 128 &                     [5, 1, 1, 1, 1, 1, 1, 1, 1, 1] &           1.4 \\\\\n",
      "  10000000.0 & 256 &                     [5, 2, 2, 2, 2, 3, 3, 2, 2, 3] &           2.6 \\\\\n",
      " 100000000.0 &   1 &           [26, 37, 27, 26, 33, 27, 29, 28, 27, 27] &          28.7 \\\\\n",
      " 100000000.0 &   2 &           [21, 19, 19, 23, 21, 21, 24, 19, 21, 22] &          21.0 \\\\\n",
      " 100000000.0 &   4 &           [24, 22, 20, 24, 21, 20, 16, 17, 16, 16] &          19.6 \\\\\n",
      " 100000000.0 &   8 &           [19, 17, 16, 17, 16, 15, 17, 20, 18, 17] &          17.2 \\\\\n",
      " 100000000.0 &  16 &           [14, 15, 16, 16, 17, 15, 13, 14, 14, 14] &          14.8 \\\\\n",
      " 100000000.0 &  32 &           [15, 17, 16, 16, 16, 16, 16, 16, 16, 18] &          16.2 \\\\\n",
      " 100000000.0 &  64 &           [17, 17, 17, 19, 19, 21, 19, 18, 18, 13] &          17.8 \\\\\n",
      " 100000000.0 & 128 &           [22, 20, 20, 19, 26, 22, 21, 20, 23, 21] &          21.4 \\\\\n",
      " 100000000.0 & 256 &           [29, 33, 25, 25, 24, 24, 23, 23, 23, 25] &          25.4 \\\\\n",
      "1000000000.0 &   1 & [538, 358, 356, 330, 350, 387, 380, 359, 355, 359] &         377.2 \\\\\n",
      "1000000000.0 &   2 & [254, 234, 274, 284, 292, 262, 241, 263, 270, 237] &         261.1 \\\\\n",
      "1000000000.0 &   4 & [236, 238, 227, 330, 286, 292, 242, 238, 282, 286] &         265.7 \\\\\n",
      "1000000000.0 &   8 & [209, 177, 176, 181, 180, 184, 187, 185, 181, 204] &         186.4 \\\\\n",
      "1000000000.0 &  16 & [159, 159, 159, 154, 159, 159, 158, 154, 159, 149] &         156.9 \\\\\n",
      "1000000000.0 &  32 & [151, 157, 149, 155, 147, 161, 145, 167, 152, 151] &         153.5 \\\\\n",
      "1000000000.0 &  64 & [148, 145, 148, 146, 145, 152, 151, 144, 146, 145] &         147.0 \\\\\n",
      "1000000000.0 & 128 & [145, 132, 138, 135, 140, 133, 138, 137, 135, 142] &         137.5 \\\\\n",
      "1000000000.0 & 256 & [153, 160, 162, 159, 157, 137, 135, 138, 133, 136] &         147.0 \\\\\n",
      "\\bottomrule\n",
      "\\end{tabular}\n",
      "\n"
     ]
    },
    {
     "name": "stderr",
     "output_type": "stream",
     "text": [
      "/tmp/ipykernel_13025/2101732907.py:1: FutureWarning: In future versions `DataFrame.to_latex` is expected to utilise the base implementation of `Styler.to_latex` for formatting and rendering. The arguments signature may therefore change. It is recommended instead to use `DataFrame.style.to_latex` which also contains additional functionality.\n",
      "  print(results_df.to_latex(index=False))\n"
     ]
    }
   ],
   "source": [
    "print(results_df.to_latex(index=False))"
   ]
  },
  {
   "cell_type": "markdown",
   "metadata": {},
   "source": [
    "## Execução do programa `spinlocks` para diferentes<br>parâmetros de $N$ e $K$"
   ]
  },
  {
   "cell_type": "code",
   "execution_count": 3,
   "metadata": {},
   "outputs": [],
   "source": [
    "t = 10\n",
    "\n",
    "try:\n",
    "    for n in [1e7, 1e8, 1e9]:\n",
    "        for k in [1, 2, 4, 8, 16, 32, 64, 128, 256]:\n",
    "            command = subprocess.getoutput(\n",
    "                f\"./target/release/spinlocks -n {int(n)} -k {k} -t {t}\"\n",
    "            )\n",
    "            elapsed = [\n",
    "                int(i)\n",
    "                for i in command.splitlines()[-1][1:-1].replace(\" \",\"\").split(\",\")\n",
    "            ]\n",
    "            results_df = pd.concat([\n",
    "                results_df,\n",
    "                pd.DataFrame([{\n",
    "                    \"n\": n,\n",
    "                    \"k\": k,\n",
    "                    \"elapsed\": elapsed,\n",
    "                    \"mean_elapsed\": sum(elapsed)/len(elapsed)\n",
    "                }])\n",
    "            ])\n",
    "except Exception:\n",
    "    print(\"N:\", n, \"K:\", k)\n",
    "    print(\"-\"*20)\n",
    "    print(command)\n",
    "    print(\"-\"*20)"
   ]
  },
  {
   "cell_type": "markdown",
   "metadata": {},
   "source": [
    "## Exportação dos resultados"
   ]
  },
  {
   "cell_type": "code",
   "execution_count": 4,
   "metadata": {},
   "outputs": [],
   "source": [
    "results_df.to_csv(\"./data/results.csv\", sep=\";\", index=False)"
   ]
  },
  {
   "cell_type": "markdown",
   "metadata": {},
   "source": [
    "## Gráfico com resultados"
   ]
  },
  {
   "cell_type": "code",
   "execution_count": 6,
   "metadata": {},
   "outputs": [
    {
     "data": {
      "image/png": "[encoded data removed]",
      "text/plain": [
       "<Figure size 432x288 with 1 Axes>"
      ]
     },
     "metadata": {
      "needs_background": "light"
     },
     "output_type": "display_data"
    }
   ],
   "source": [
    "for x in sorted(results_df[\"n\"].unique()):\n",
    "    x_df = results_df.loc[results_df[\"n\"] == x]\n",
    "    plt.plot(x_df[\"k\"], x_df[\"mean_elapsed\"], label=f\"$10^{int(log10(x))}$\")\n",
    "plt.xscale(\"log\", base=2)\n",
    "plt.xticks([2**i for i in range(9)])\n",
    "plt.xlabel(\"Número de threads - $K$\")\n",
    "plt.yticks([50*i for i in range(9)])\n",
    "plt.ylabel(\"Tempo médio de execução (ms)\")\n",
    "plt.title(\"Tempo médio de execução por número de threads\")\n",
    "plt.legend(title=\"Quantidade de números - $N$\")\n",
    "plt.savefig(\"./data/results_chart.png\", format=\"png\", dpi=300);"
   ]
  }
 ],
 "metadata": {
  "interpreter": {
   "hash": "916dbcbb3f70747c44a77c7bcd40155683ae19c65e1c03b4aa3499c5328201f1"
  },
  "kernelspec": {
   "display_name": "Python 3.8.10 64-bit",
   "language": "python",
   "name": "python3"
  },
  "language_info": {
   "codemirror_mode": {
    "name": "ipython",
    "version": 3
   },
   "file_extension": ".py",
   "mimetype": "text/x-python",
   "name": "python",
   "nbconvert_exporter": "python",
   "pygments_lexer": "ipython3",
   "version": "3.8.10"
  },
  "orig_nbformat": 4
 },
 "nbformat": 4,
 "nbformat_minor": 2
}
