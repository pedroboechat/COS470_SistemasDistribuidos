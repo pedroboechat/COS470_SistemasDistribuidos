{
 "cells": [
  {
   "cell_type": "markdown",
   "metadata": {},
   "source": [
    "# Análise de desempenho - `spinlocks`"
   ]
  },
  {
   "cell_type": "markdown",
   "metadata": {},
   "source": [
    "## Importação das bibliotecas"
   ]
  },
  {
   "cell_type": "code",
   "execution_count": 1,
   "metadata": {},
   "outputs": [],
   "source": [
    "from math import log10\n",
    "import subprocess\n",
    "\n",
    "import matplotlib.pyplot as plt\n",
    "import pandas as pd"
   ]
  },
  {
   "cell_type": "markdown",
   "metadata": {},
   "source": [
    "## Criação de DataFrame para os resultados"
   ]
  },
  {
   "cell_type": "code",
   "execution_count": 2,
   "metadata": {},
   "outputs": [],
   "source": [
    "results_df = pd.DataFrame(columns=[\n",
    "    \"n\",\n",
    "    \"k\",\n",
    "    \"elapsed\",\n",
    "    \"mean_elapsed\"\n",
    "])"
   ]
  },
  {
   "cell_type": "markdown",
   "metadata": {},
   "source": [
    "## Execução do programa `spinlocks` para diferentes<br>parâmetros de $N$ e $K$"
   ]
  },
  {
   "cell_type": "code",
   "execution_count": 3,
   "metadata": {},
   "outputs": [],
   "source": [
    "t = 10\n",
    "\n",
    "try:\n",
    "    for n in [1e7, 1e8, 1e9]:\n",
    "        for k in [1, 2, 4, 8, 16, 32, 64, 128, 256]:\n",
    "            command = subprocess.getoutput(\n",
    "                f\"./target/release/spinlocks -n {int(n)} -k {k} -t {t}\"\n",
    "            )\n",
    "            elapsed = [\n",
    "                int(i)\n",
    "                for i in command.splitlines()[-1][1:-1].replace(\" \",\"\").split(\",\")\n",
    "            ]\n",
    "            results_df = pd.concat([\n",
    "                results_df,\n",
    "                pd.DataFrame([{\n",
    "                    \"n\": n,\n",
    "                    \"k\": k,\n",
    "                    \"elapsed\": elapsed,\n",
    "                    \"mean_elapsed\": sum(elapsed)/len(elapsed)\n",
    "                }])\n",
    "            ])\n",
    "except Exception:\n",
    "    print(\"N:\", n, \"K:\", k)\n",
    "    print(\"-\"*20)\n",
    "    print(command)\n",
    "    print(\"-\"*20)"
   ]
  },
  {
   "cell_type": "markdown",
   "metadata": {},
   "source": [
    "## Exportação dos resultados"
   ]
  },
  {
   "cell_type": "code",
   "execution_count": 4,
   "metadata": {},
   "outputs": [],
   "source": [
    "results_df.to_csv(\"./results.csv\", sep=\";\", index=False)"
   ]
  },
  {
   "cell_type": "markdown",
   "metadata": {},
   "source": [
    "## Gráfico com resultados"
   ]
  },
  {
   "cell_type": "code",
   "execution_count": 5,
   "metadata": {},
   "outputs": [
    {
     "data": {
      "image/png": "[encoded data removed]",
      "text/plain": [
       "<Figure size 432x288 with 1 Axes>"
      ]
     },
     "metadata": {
      "needs_background": "light"
     },
     "output_type": "display_data"
    }
   ],
   "source": [
    "for x in sorted(results_df[\"n\"].unique()):\n",
    "    x_df = results_df.loc[results_df[\"n\"] == x]\n",
    "    plt.plot(x_df[\"k\"], x_df[\"mean_elapsed\"], label=f\"$2^{int(log10(x))}$\")\n",
    "plt.xscale(\"log\", base=2)\n",
    "plt.xticks([2**i for i in range(9)])\n",
    "plt.xlabel(\"Número de threads - $K$\")\n",
    "plt.yticks([50*i for i in range(9)])\n",
    "plt.ylabel(\"Tempo médio de execução (ms)\")\n",
    "plt.title(\"Tempo médio de execução por número de threads\")\n",
    "plt.legend(title=\"Quantidade de números - $N$\")\n",
    "plt.savefig(\"results_chart.pdf\", format=\"pdf\", dpi=300);"
   ]
  }
 ],
 "metadata": {
  "interpreter": {
   "hash": "916dbcbb3f70747c44a77c7bcd40155683ae19c65e1c03b4aa3499c5328201f1"
  },
  "kernelspec": {
   "display_name": "Python 3.8.10 64-bit",
   "language": "python",
   "name": "python3"
  },
  "language_info": {
   "codemirror_mode": {
    "name": "ipython",
    "version": 3
   },
   "file_extension": ".py",
   "mimetype": "text/x-python",
   "name": "python",
   "nbconvert_exporter": "python",
   "pygments_lexer": "ipython3",
   "version": "3.8.10"
  },
  "orig_nbformat": 4
 },
 "nbformat": 4,
 "nbformat_minor": 2
}
