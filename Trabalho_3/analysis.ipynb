{
 "cells": [
  {
   "cell_type": "markdown",
   "metadata": {},
   "source": [
    "# Análise de desempenho - `coordinator` e `process`"
   ]
  },
  {
   "cell_type": "markdown",
   "metadata": {},
   "source": [
    "## Importação das bibliotecas"
   ]
  },
  {
   "cell_type": "code",
   "execution_count": 1,
   "metadata": {},
   "outputs": [],
   "source": [
    "from os import makedirs\n",
    "import subprocess\n",
    "\n",
    "import matplotlib.pyplot as plt\n",
    "import pandas as pd\n",
    "from tqdm import tqdm\n",
    "\n",
    "from log_validator import validate\n",
    "\n",
    "makedirs(\"./data\", exist_ok=True)"
   ]
  },
  {
   "cell_type": "markdown",
   "metadata": {},
   "source": [
    "## Definição dos Testes de Funcionamento"
   ]
  },
  {
   "cell_type": "code",
   "execution_count": 2,
   "metadata": {},
   "outputs": [],
   "source": [
    "TESTS = {\n",
    "    0: {\n",
    "        \"n\": [2],\n",
    "        \"k\": 2,\n",
    "        \"r\": 10\n",
    "    },\n",
    "    1: {\n",
    "        \"n\": [2, 4, 8, 16, 32],\n",
    "        \"k\": 2,\n",
    "        \"r\": 10\n",
    "    },\n",
    "    2: {\n",
    "        \"n\": [2, 4, 8, 16, 32, 64],\n",
    "        \"k\": 1,\n",
    "        \"r\": 5\n",
    "    },\n",
    "    3: {\n",
    "        \"n\": [2, 4, 8, 16, 32, 64],\n",
    "        \"k\": 0,\n",
    "        \"r\": 3\n",
    "    },\n",
    "}"
   ]
  },
  {
   "cell_type": "markdown",
   "metadata": {},
   "source": [
    "## Execução dos programas `process` e `coordinator`<br>para diferentes parâmetros de $N$, $K$ e $R$"
   ]
  },
  {
   "cell_type": "code",
   "execution_count": 3,
   "metadata": {},
   "outputs": [
    {
     "name": "stdout",
     "output_type": "stream",
     "text": [
      "> Running Test #0\n"
     ]
    },
    {
     "name": "stderr",
     "output_type": "stream",
     "text": [
      "100%|██████████| 1/1 [00:40<00:00, 40.17s/it]\n"
     ]
    },
    {
     "name": "stdout",
     "output_type": "stream",
     "text": [
      "> Running Test #1\n"
     ]
    },
    {
     "name": "stderr",
     "output_type": "stream",
     "text": [
      "100%|██████████| 5/5 [20:45<00:00, 249.17s/it]\n"
     ]
    },
    {
     "name": "stdout",
     "output_type": "stream",
     "text": [
      "> Running Test #2\n"
     ]
    },
    {
     "name": "stderr",
     "output_type": "stream",
     "text": [
      "100%|██████████| 6/6 [10:32<00:00, 105.41s/it]\n"
     ]
    },
    {
     "name": "stdout",
     "output_type": "stream",
     "text": [
      "> Running Test #3\n"
     ]
    },
    {
     "name": "stderr",
     "output_type": "stream",
     "text": [
      "100%|██████████| 6/6 [00:00<00:00,  7.90it/s]\n"
     ]
    }
   ],
   "source": [
    "for test_number, test_params in TESTS.items():\n",
    "    print(f\"> Running Test #{test_number}\")\n",
    "    coordinator_command = subprocess.Popen(\n",
    "        [\n",
    "            \"./03_Coordinator/target/release/coordinator\",\n",
    "            \"-l\",\n",
    "            f\"coordenador_teste_{test_number}\"\n",
    "        ],\n",
    "        stdout=subprocess.PIPE, stdin=subprocess.PIPE, stderr=subprocess.PIPE\n",
    "    )\n",
    "    for n in tqdm(test_params[\"n\"]):\n",
    "        n_command = subprocess.getoutput(\n",
    "            f\"./04_Process/target/release/process -n {n} -k {test_params['k']} -r {test_params['r']} -l resultados_teste_{test_number}_n_{n}\"\n",
    "        )\n",
    "    coordinator_command.kill()"
   ]
  },
  {
   "cell_type": "markdown",
   "metadata": {},
   "source": [
    "## Criação de DataFrame para os resultados"
   ]
  },
  {
   "cell_type": "code",
   "execution_count": 3,
   "metadata": {},
   "outputs": [],
   "source": [
    "results_df = pd.DataFrame(columns=[\n",
    "    \"test_number\",\n",
    "    \"n\",\n",
    "    \"k\",\n",
    "    \"r\",\n",
    "    \"elapsed\"\n",
    "])"
   ]
  },
  {
   "cell_type": "markdown",
   "metadata": {},
   "source": [
    "## Validação dos logs"
   ]
  },
  {
   "cell_type": "code",
   "execution_count": 54,
   "metadata": {},
   "outputs": [
    {
     "name": "stdout",
     "output_type": "stream",
     "text": [
      "Test #0 - Log file was successfully validated\n",
      "Test #1 - Log file was successfully validated\n",
      "Test #2 - Log file was successfully validated\n",
      "Test #3 - Log file was successfully validated\n"
     ]
    }
   ],
   "source": [
    "from log_validator import validate\n",
    "\n",
    "for test_number in TESTS.keys():\n",
    "    print(\n",
    "        \"Test #\",\n",
    "        test_number,\n",
    "        \" - \",\n",
    "        sep=\"\",\n",
    "        end=\"\"\n",
    "    )\n",
    "    validate(f\"./log/coordenador_teste_{test_number}.log\")"
   ]
  },
  {
   "cell_type": "markdown",
   "metadata": {},
   "source": [
    "## Análise dos resultados"
   ]
  },
  {
   "cell_type": "code",
   "execution_count": 53,
   "metadata": {},
   "outputs": [],
   "source": [
    "for test_number, test_params in TESTS.items():\n",
    "    for n in test_params[\"n\"]:\n",
    "        with open(f\"./log/resultados_teste_{test_number}_n_{n}.txt\") as file:\n",
    "            all_lines = file.readlines()\n",
    "            first_line = float(all_lines[0].split(\"-\")[0].strip())\n",
    "            last_line = float(all_lines[-1].split(\"-\")[0].strip())\n",
    "            results_df = pd.concat(\n",
    "                [\n",
    "                    results_df,\n",
    "                    pd.DataFrame(\n",
    "                        [(\n",
    "                            test_number,\n",
    "                            n,\n",
    "                            test_params[\"k\"],\n",
    "                            test_params[\"r\"],\n",
    "                            last_line-first_line\n",
    "                        )],\n",
    "                        columns=[\n",
    "                            \"test_number\",\n",
    "                            \"n\",\n",
    "                            \"k\",\n",
    "                            \"r\",\n",
    "                            \"elapsed\"\n",
    "                        ]\n",
    "                    )\n",
    "                ],\n",
    "                ignore_index=True\n",
    "            )\n",
    "\n",
    "results_df.to_csv(\"./data/benchmark.csv\", sep=\";\", index=False)"
   ]
  },
  {
   "cell_type": "markdown",
   "metadata": {},
   "source": [
    "## Gráfico com resultados"
   ]
  },
  {
   "cell_type": "code",
   "execution_count": 6,
   "metadata": {},
   "outputs": [
    {
     "data": {
      "text/html": [
       "<div>\n",
       "<style scoped>\n",
       "    .dataframe tbody tr th:only-of-type {\n",
       "        vertical-align: middle;\n",
       "    }\n",
       "\n",
       "    .dataframe tbody tr th {\n",
       "        vertical-align: top;\n",
       "    }\n",
       "\n",
       "    .dataframe thead th {\n",
       "        text-align: right;\n",
       "    }\n",
       "</style>\n",
       "<table border=\"1\" class=\"dataframe\">\n",
       "  <thead>\n",
       "    <tr style=\"text-align: right;\">\n",
       "      <th></th>\n",
       "      <th>test_number</th>\n",
       "      <th>n</th>\n",
       "      <th>k</th>\n",
       "      <th>r</th>\n",
       "      <th>elapsed</th>\n",
       "    </tr>\n",
       "  </thead>\n",
       "  <tbody>\n",
       "    <tr>\n",
       "      <th>0</th>\n",
       "      <td>0</td>\n",
       "      <td>2</td>\n",
       "      <td>2</td>\n",
       "      <td>10</td>\n",
       "      <td>38.037642</td>\n",
       "    </tr>\n",
       "    <tr>\n",
       "      <th>1</th>\n",
       "      <td>1</td>\n",
       "      <td>2</td>\n",
       "      <td>2</td>\n",
       "      <td>10</td>\n",
       "      <td>38.039901</td>\n",
       "    </tr>\n",
       "    <tr>\n",
       "      <th>2</th>\n",
       "      <td>1</td>\n",
       "      <td>4</td>\n",
       "      <td>2</td>\n",
       "      <td>10</td>\n",
       "      <td>78.075278</td>\n",
       "    </tr>\n",
       "    <tr>\n",
       "      <th>3</th>\n",
       "      <td>1</td>\n",
       "      <td>8</td>\n",
       "      <td>2</td>\n",
       "      <td>10</td>\n",
       "      <td>158.19236</td>\n",
       "    </tr>\n",
       "    <tr>\n",
       "      <th>4</th>\n",
       "      <td>1</td>\n",
       "      <td>16</td>\n",
       "      <td>2</td>\n",
       "      <td>10</td>\n",
       "      <td>318.304348</td>\n",
       "    </tr>\n",
       "    <tr>\n",
       "      <th>5</th>\n",
       "      <td>1</td>\n",
       "      <td>32</td>\n",
       "      <td>2</td>\n",
       "      <td>10</td>\n",
       "      <td>643.080039</td>\n",
       "    </tr>\n",
       "    <tr>\n",
       "      <th>6</th>\n",
       "      <td>2</td>\n",
       "      <td>2</td>\n",
       "      <td>1</td>\n",
       "      <td>5</td>\n",
       "      <td>9.196387</td>\n",
       "    </tr>\n",
       "    <tr>\n",
       "      <th>7</th>\n",
       "      <td>2</td>\n",
       "      <td>4</td>\n",
       "      <td>1</td>\n",
       "      <td>5</td>\n",
       "      <td>19.037196</td>\n",
       "    </tr>\n",
       "    <tr>\n",
       "      <th>8</th>\n",
       "      <td>2</td>\n",
       "      <td>8</td>\n",
       "      <td>1</td>\n",
       "      <td>5</td>\n",
       "      <td>39.072292</td>\n",
       "    </tr>\n",
       "    <tr>\n",
       "      <th>9</th>\n",
       "      <td>2</td>\n",
       "      <td>16</td>\n",
       "      <td>1</td>\n",
       "      <td>5</td>\n",
       "      <td>79.14286</td>\n",
       "    </tr>\n",
       "    <tr>\n",
       "      <th>10</th>\n",
       "      <td>2</td>\n",
       "      <td>32</td>\n",
       "      <td>1</td>\n",
       "      <td>5</td>\n",
       "      <td>159.304442</td>\n",
       "    </tr>\n",
       "    <tr>\n",
       "      <th>11</th>\n",
       "      <td>2</td>\n",
       "      <td>64</td>\n",
       "      <td>1</td>\n",
       "      <td>5</td>\n",
       "      <td>320.489258</td>\n",
       "    </tr>\n",
       "    <tr>\n",
       "      <th>12</th>\n",
       "      <td>3</td>\n",
       "      <td>2</td>\n",
       "      <td>0</td>\n",
       "      <td>3</td>\n",
       "      <td>0.010009</td>\n",
       "    </tr>\n",
       "    <tr>\n",
       "      <th>13</th>\n",
       "      <td>3</td>\n",
       "      <td>4</td>\n",
       "      <td>0</td>\n",
       "      <td>3</td>\n",
       "      <td>0.018978</td>\n",
       "    </tr>\n",
       "    <tr>\n",
       "      <th>14</th>\n",
       "      <td>3</td>\n",
       "      <td>8</td>\n",
       "      <td>0</td>\n",
       "      <td>3</td>\n",
       "      <td>0.036134</td>\n",
       "    </tr>\n",
       "    <tr>\n",
       "      <th>15</th>\n",
       "      <td>3</td>\n",
       "      <td>16</td>\n",
       "      <td>0</td>\n",
       "      <td>3</td>\n",
       "      <td>0.071456</td>\n",
       "    </tr>\n",
       "    <tr>\n",
       "      <th>16</th>\n",
       "      <td>3</td>\n",
       "      <td>32</td>\n",
       "      <td>0</td>\n",
       "      <td>3</td>\n",
       "      <td>0.140041</td>\n",
       "    </tr>\n",
       "    <tr>\n",
       "      <th>17</th>\n",
       "      <td>3</td>\n",
       "      <td>64</td>\n",
       "      <td>0</td>\n",
       "      <td>3</td>\n",
       "      <td>0.280658</td>\n",
       "    </tr>\n",
       "  </tbody>\n",
       "</table>\n",
       "</div>"
      ],
      "text/plain": [
       "   test_number   n  k   r     elapsed\n",
       "0            0   2  2  10   38.037642\n",
       "1            1   2  2  10   38.039901\n",
       "2            1   4  2  10   78.075278\n",
       "3            1   8  2  10   158.19236\n",
       "4            1  16  2  10  318.304348\n",
       "5            1  32  2  10  643.080039\n",
       "6            2   2  1   5    9.196387\n",
       "7            2   4  1   5   19.037196\n",
       "8            2   8  1   5   39.072292\n",
       "9            2  16  1   5    79.14286\n",
       "10           2  32  1   5  159.304442\n",
       "11           2  64  1   5  320.489258\n",
       "12           3   2  0   3    0.010009\n",
       "13           3   4  0   3    0.018978\n",
       "14           3   8  0   3    0.036134\n",
       "15           3  16  0   3    0.071456\n",
       "16           3  32  0   3    0.140041\n",
       "17           3  64  0   3    0.280658"
      ]
     },
     "execution_count": 6,
     "metadata": {},
     "output_type": "execute_result"
    }
   ],
   "source": [
    "results_df"
   ]
  },
  {
   "cell_type": "code",
   "execution_count": 50,
   "metadata": {},
   "outputs": [
    {
     "data": {
      "image/png": "[encoded data removed]",
      "text/plain": [
       "<Figure size 432x288 with 1 Axes>"
      ]
     },
     "metadata": {
      "needs_background": "light"
     },
     "output_type": "display_data"
    },
    {
     "data": {
      "image/png": "[encoded data removed]",
      "text/plain": [
       "<Figure size 432x288 with 1 Axes>"
      ]
     },
     "metadata": {
      "needs_background": "light"
     },
     "output_type": "display_data"
    },
    {
     "data": {
      "image/png": "[encoded data removed]",
      "text/plain": [
       "<Figure size 432x288 with 1 Axes>"
      ]
     },
     "metadata": {
      "needs_background": "light"
     },
     "output_type": "display_data"
    },
    {
     "data": {
      "image/png": "[encoded data removed]",
      "text/plain": [
       "<Figure size 432x288 with 1 Axes>"
      ]
     },
     "metadata": {
      "needs_background": "light"
     },
     "output_type": "display_data"
    }
   ],
   "source": [
    "for test_number, test_params in TESTS.items():\n",
    "    fig, ax = plt.subplots()\n",
    "    _ = results_df.loc[\n",
    "        results_df[\"test_number\"] == test_number\n",
    "    ][[\"n\", \"elapsed\"]]\n",
    "\n",
    "    for i, n, elapsed in _.itertuples():\n",
    "        ax.bar(\n",
    "            x = n,\n",
    "            height = elapsed,\n",
    "            width = 0.8*n/2,\n",
    "            align=\"center\"\n",
    "        )\n",
    "    ax.plot(\n",
    "        _[\"n\"],\n",
    "        _[\"elapsed\"],\n",
    "        color = \"black\"\n",
    "    )\n",
    "    ax.set_title(\n",
    "        \"{}\\n{}\".format(\n",
    "            \"Tempo de execução por número de $threads$\",\n",
    "            f\"Teste #{test_number} ($K = {test_params['k']}$, $R = {test_params['r']}$)\"\n",
    "        ),\n",
    "        fontsize=14\n",
    "    )\n",
    "    ax.set_xscale(\"log\", base=2)\n",
    "    ax.set_xticks([2**i for i in range(1, len(test_params[\"n\"])+1)])\n",
    "    ax.set_xlabel(\"Número de $threads$\", fontsize=12)\n",
    "    ax.set_ylabel(\"Tempo de execução ($s$)\", fontsize=12)\n",
    "    plt.tight_layout()\n",
    "    plt.savefig(f\"./data/test_plot_{test_number}.png\", format=\"png\", dpi=300);\n",
    "    plt.savefig(f\"./data/test_plot_{test_number}.pdf\", format=\"pdf\", dpi=300);"
   ]
  }
 ],
 "metadata": {
  "kernelspec": {
   "display_name": "Python 3.9.12 ('base')",
   "language": "python",
   "name": "python3"
  },
  "language_info": {
   "codemirror_mode": {
    "name": "ipython",
    "version": 3
   },
   "file_extension": ".py",
   "mimetype": "text/x-python",
   "name": "python",
   "nbconvert_exporter": "python",
   "pygments_lexer": "ipython3",
   "version": "3.9.12"
  },
  "orig_nbformat": 4,
  "vscode": {
   "interpreter": {
    "hash": "aea149784bd30735ce6bf75b9a5314843328adf2083b944f20623ef50c2ca00d"
   }
  }
 },
 "nbformat": 4,
 "nbformat_minor": 2
}
